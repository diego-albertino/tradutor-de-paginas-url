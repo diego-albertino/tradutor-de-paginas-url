{
 "cells": [
  {
   "cell_type": "code",
   "execution_count": null,
   "metadata": {
    "colab": {
     "base_uri": "https://localhost:8080/",
     "height": 123
    },
    "id": "j4v0lQ3n4qbK",
    "outputId": "b10d19a3-cb98-487f-f303-e7434c6c0936"
   },
   "outputs": [],
   "source": [
    "import requests\n",
    "from bs4 import BeautifulSoup\n",
    "\n",
    "def extract_text_from_url(url, limit= False):\n",
    "  \"\"\"\n",
    "  Extrai e limpa o conteúdo de texto de uma URL fornecida.\n",
    "  Args:\n",
    "    url (str): A URL da página da web para extrair o texto.\n",
    "    limit (bool, opcional): Se True, limita o texto extraído a um número máximo de caracteres. O padrão é False.\n",
    "  Retorna:\n",
    "    str: O texto limpo extraído da página da web. Se `limit` for True, retorna o texto limitado a um número especificado de caracteres.\n",
    "    None: Se a solicitação para a URL falhar\n",
    "  \"\"\"\n",
    "\n",
    "  response = requests.get(url)\n",
    "\n",
    "  if response.status_code == 200:\n",
    "    soup = BeautifulSoup(response.text, 'html.parser')\n",
    "    for script_or_tyle in soup(['script', 'style']):\n",
    "      script_or_tyle.decompose()\n",
    "    texto = soup.get_text(separator= ' ')\n",
    "\n",
    "    #limpar texto\n",
    "    linhas = (line.strip() for line in texto.splitlines())\n",
    "    parts = (phrase.strip() for line in linhas for phrase in line.split(\"  \"))\n",
    "    texto_limpo = '\\n'.join(part for part in parts if part)\n",
    "\n",
    "\n",
    "    if limit:\n",
    "      max_characters = 500  # Ajuste conforme necessário\n",
    "      texto_limpo_limit = texto_limpo[:max_characters]\n",
    "      return texto_limpo_limit\n",
    "\n",
    "    return texto_limpo\n",
    "  else:\n",
    "    print(f\"Failed to fetch the URL. Status code: {response.status_code}\")\n",
    "    return None"
   ]
  },
  {
   "cell_type": "code",
   "execution_count": 7,
   "metadata": {
    "colab": {
     "base_uri": "https://localhost:8080/",
     "height": 53
    },
    "id": "ZcpXgAZv7kKi",
    "outputId": "b7acd30e-d756-4a6b-860a-60f044293ae3"
   },
   "outputs": [],
   "source": [
    "from langchain_openai.chat_models.azure import AzureChatOpenAI\n",
    "import os\n",
    "\n",
    "client = AzureChatOpenAI(\n",
    "    azure_endpoint = os.getenv(\"AZURE_ENDPOINT\"),\n",
    "    api_key = os.getenv(\"API_KEY\"),\n",
    "    api_version = os.getenv(\"API_VERSION\"),\n",
    "    deployment_name= 'gpt-4o-mini',\n",
    "    max_retries=0\n",
    ")\n",
    "\n",
    "def translate_article(text, lang):\n",
    "  messages = [\n",
    "      (\"system\" , \"Você atua como tradutor de textos\"),\n",
    "      (\"user\" , f\"Traduz o {text} para o idioma {lang} e reponda em markdown\")\n",
    "  ]\n",
    "\n",
    "  response = client.invoke(messages)\n",
    "  print(response.content)\n",
    "  return response.content"
   ]
  },
  {
   "cell_type": "code",
   "execution_count": 9,
   "metadata": {
    "id": "zrCF6LPPRM0Y"
   },
   "outputs": [],
   "source": [
    "import requests\n",
    "import os\n",
    "\n",
    "subscription_key = os.getenv(\"SUBSCRIPTION_KEY\")\n",
    "endpoint = os.getenv(\"ENDPOINT\")\n",
    "location = os.getenv(\"LOCATION\")\n",
    "language_destination = 'pt-br'\n",
    "\n",
    "def translator_text(text, target_language):\n",
    "\n",
    "  path = '/translate'\n",
    "  constructed_url = endpoint + path\n",
    "  headers = {\n",
    "      'Ocp-Apim-Subscription-Key': subscription_key,\n",
    "      'Ocp-Apim-Subscription-Region': location,\n",
    "      'Content-type': 'application/json',\n",
    "      'X-ClientTraceId': str(os.urandom(16))\n",
    "  }\n",
    "\n",
    "  body = [{\n",
    "      'text': text\n",
    "  }]\n",
    "\n",
    "  params = {\n",
    "      'api-version': '3.0',\n",
    "      'from': 'en',\n",
    "      'to': target_language\n",
    "  }\n",
    "  request = requests.post(constructed_url, params=params, headers=headers, json=body)\n",
    "  response = request.json()\n",
    "  return response[0][\"translations\"][0][\"text\"]\n",
    "\n"
   ]
  },
  {
   "cell_type": "code",
   "execution_count": null,
   "metadata": {
    "colab": {
     "base_uri": "https://localhost:8080/"
    },
    "id": "6c9EBaix_yT_",
    "outputId": "83091bfc-d135-4915-8741-b423d91c97e4"
   },
   "outputs": [],
   "source": [
    "# UILIZA O GPT-4O-MINI PARA FAZER TRADUÇÃO\n",
    "url = 'https://dev.to/kenakamu/azure-open-ai-in-vnet-3alo'\n",
    "text = extract_text_from_url(url, True)\n",
    "artigo = translate_article(text, 'portugues')\n",
    "\n",
    "print(artigo)"
   ]
  },
  {
   "cell_type": "code",
   "execution_count": null,
   "metadata": {
    "id": "oRvnYjNDtgmS"
   },
   "outputs": [],
   "source": [
    "# UTILIZA O MICROSOFT TRANSLATE PARA TRADUZIR\n",
    "url = 'https://dev.to/kenakamu/azure-open-ai-in-vnet-3alo'\n",
    "texto = extract_text_from_url(url,)\n",
    "article = translator_text(texto, 'pt-br')\n",
    "\n",
    "print(article)"
   ]
  }
 ],
 "metadata": {
  "colab": {
   "provenance": []
  },
  "kernelspec": {
   "display_name": ".venv",
   "language": "python",
   "name": "python3"
  },
  "language_info": {
   "codemirror_mode": {
    "name": "ipython",
    "version": 3
   },
   "file_extension": ".py",
   "mimetype": "text/x-python",
   "name": "python",
   "nbconvert_exporter": "python",
   "pygments_lexer": "ipython3",
   "version": "3.12.4"
  }
 },
 "nbformat": 4,
 "nbformat_minor": 0
}
